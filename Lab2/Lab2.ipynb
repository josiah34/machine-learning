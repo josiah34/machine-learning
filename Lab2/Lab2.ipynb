{
  "cells": [
    {
      "cell_type": "code",
      "execution_count": 1,
      "metadata": {
        "id": "A4KI-pazt70f"
      },
      "outputs": [],
      "source": [
        "import pandas as pd\n",
        "import numpy as np \n",
        "from sklearn.model_selection import train_test_split\n",
        "from sklearn.linear_model import LinearRegression"
      ]
    },
    {
      "cell_type": "code",
      "execution_count": 2,
      "metadata": {
        "colab": {
          "base_uri": "https://localhost:8080/",
          "height": 374
        },
        "id": "SxhzoZv8uOVQ",
        "outputId": "65d2e77a-924e-45e8-c349-2ffa67fcd3f1"
      },
      "outputs": [
        {
          "data": {
            "text/html": [
              "\n",
              "  <div id=\"df-aec51183-3fa4-48cf-971f-0524c144675d\">\n",
              "    <div class=\"colab-df-container\">\n",
              "      <div>\n",
              "<style scoped>\n",
              "    .dataframe tbody tr th:only-of-type {\n",
              "        vertical-align: middle;\n",
              "    }\n",
              "\n",
              "    .dataframe tbody tr th {\n",
              "        vertical-align: top;\n",
              "    }\n",
              "\n",
              "    .dataframe thead th {\n",
              "        text-align: right;\n",
              "    }\n",
              "</style>\n",
              "<table border=\"1\" class=\"dataframe\">\n",
              "  <thead>\n",
              "    <tr style=\"text-align: right;\">\n",
              "      <th></th>\n",
              "      <th>county_FIPS</th>\n",
              "      <th>state</th>\n",
              "      <th>county</th>\n",
              "      <th>per_capita_personal_income_2019</th>\n",
              "      <th>per_capita_personal_income_2020</th>\n",
              "      <th>per_capita_personal_income_2021</th>\n",
              "      <th>associate_degree_numbers_2016_2020</th>\n",
              "      <th>bachelor_degree_numbers_2016_2020</th>\n",
              "      <th>associate_degree_percentage_2016_2020</th>\n",
              "      <th>bachelor_degree_percentage_2015_2019</th>\n",
              "    </tr>\n",
              "  </thead>\n",
              "  <tbody>\n",
              "    <tr>\n",
              "      <th>0</th>\n",
              "      <td>51013</td>\n",
              "      <td>VA</td>\n",
              "      <td>Arlington, VA</td>\n",
              "      <td>97629</td>\n",
              "      <td>100687</td>\n",
              "      <td>107603</td>\n",
              "      <td>19573</td>\n",
              "      <td>132394</td>\n",
              "      <td>11.21</td>\n",
              "      <td>75.84</td>\n",
              "    </tr>\n",
              "    <tr>\n",
              "      <th>1</th>\n",
              "      <td>35028</td>\n",
              "      <td>NM</td>\n",
              "      <td>Los Alamos, NM</td>\n",
              "      <td>72366</td>\n",
              "      <td>75949</td>\n",
              "      <td>81306</td>\n",
              "      <td>2766</td>\n",
              "      <td>9098</td>\n",
              "      <td>20.54</td>\n",
              "      <td>67.56</td>\n",
              "    </tr>\n",
              "    <tr>\n",
              "      <th>2</th>\n",
              "      <td>8013</td>\n",
              "      <td>CO</td>\n",
              "      <td>Boulder, CO</td>\n",
              "      <td>79698</td>\n",
              "      <td>83173</td>\n",
              "      <td>89593</td>\n",
              "      <td>45834</td>\n",
              "      <td>135876</td>\n",
              "      <td>21.24</td>\n",
              "      <td>62.97</td>\n",
              "    </tr>\n",
              "    <tr>\n",
              "      <th>3</th>\n",
              "      <td>24027</td>\n",
              "      <td>MD</td>\n",
              "      <td>Howard, MD</td>\n",
              "      <td>78013</td>\n",
              "      <td>82041</td>\n",
              "      <td>86380</td>\n",
              "      <td>42538</td>\n",
              "      <td>136792</td>\n",
              "      <td>19.49</td>\n",
              "      <td>62.67</td>\n",
              "    </tr>\n",
              "    <tr>\n",
              "      <th>4</th>\n",
              "      <td>36061</td>\n",
              "      <td>NY</td>\n",
              "      <td>New York, NY</td>\n",
              "      <td>173525</td>\n",
              "      <td>175327</td>\n",
              "      <td>195543</td>\n",
              "      <td>167960</td>\n",
              "      <td>777483</td>\n",
              "      <td>13.43</td>\n",
              "      <td>62.18</td>\n",
              "    </tr>\n",
              "  </tbody>\n",
              "</table>\n",
              "</div>\n",
              "      <button class=\"colab-df-convert\" onclick=\"convertToInteractive('df-aec51183-3fa4-48cf-971f-0524c144675d')\"\n",
              "              title=\"Convert this dataframe to an interactive table.\"\n",
              "              style=\"display:none;\">\n",
              "        \n",
              "  <svg xmlns=\"http://www.w3.org/2000/svg\" height=\"24px\"viewBox=\"0 0 24 24\"\n",
              "       width=\"24px\">\n",
              "    <path d=\"M0 0h24v24H0V0z\" fill=\"none\"/>\n",
              "    <path d=\"M18.56 5.44l.94 2.06.94-2.06 2.06-.94-2.06-.94-.94-2.06-.94 2.06-2.06.94zm-11 1L8.5 8.5l.94-2.06 2.06-.94-2.06-.94L8.5 2.5l-.94 2.06-2.06.94zm10 10l.94 2.06.94-2.06 2.06-.94-2.06-.94-.94-2.06-.94 2.06-2.06.94z\"/><path d=\"M17.41 7.96l-1.37-1.37c-.4-.4-.92-.59-1.43-.59-.52 0-1.04.2-1.43.59L10.3 9.45l-7.72 7.72c-.78.78-.78 2.05 0 2.83L4 21.41c.39.39.9.59 1.41.59.51 0 1.02-.2 1.41-.59l7.78-7.78 2.81-2.81c.8-.78.8-2.07 0-2.86zM5.41 20L4 18.59l7.72-7.72 1.47 1.35L5.41 20z\"/>\n",
              "  </svg>\n",
              "      </button>\n",
              "      \n",
              "  <style>\n",
              "    .colab-df-container {\n",
              "      display:flex;\n",
              "      flex-wrap:wrap;\n",
              "      gap: 12px;\n",
              "    }\n",
              "\n",
              "    .colab-df-convert {\n",
              "      background-color: #E8F0FE;\n",
              "      border: none;\n",
              "      border-radius: 50%;\n",
              "      cursor: pointer;\n",
              "      display: none;\n",
              "      fill: #1967D2;\n",
              "      height: 32px;\n",
              "      padding: 0 0 0 0;\n",
              "      width: 32px;\n",
              "    }\n",
              "\n",
              "    .colab-df-convert:hover {\n",
              "      background-color: #E2EBFA;\n",
              "      box-shadow: 0px 1px 2px rgba(60, 64, 67, 0.3), 0px 1px 3px 1px rgba(60, 64, 67, 0.15);\n",
              "      fill: #174EA6;\n",
              "    }\n",
              "\n",
              "    [theme=dark] .colab-df-convert {\n",
              "      background-color: #3B4455;\n",
              "      fill: #D2E3FC;\n",
              "    }\n",
              "\n",
              "    [theme=dark] .colab-df-convert:hover {\n",
              "      background-color: #434B5C;\n",
              "      box-shadow: 0px 1px 3px 1px rgba(0, 0, 0, 0.15);\n",
              "      filter: drop-shadow(0px 1px 2px rgba(0, 0, 0, 0.3));\n",
              "      fill: #FFFFFF;\n",
              "    }\n",
              "  </style>\n",
              "\n",
              "      <script>\n",
              "        const buttonEl =\n",
              "          document.querySelector('#df-aec51183-3fa4-48cf-971f-0524c144675d button.colab-df-convert');\n",
              "        buttonEl.style.display =\n",
              "          google.colab.kernel.accessAllowed ? 'block' : 'none';\n",
              "\n",
              "        async function convertToInteractive(key) {\n",
              "          const element = document.querySelector('#df-aec51183-3fa4-48cf-971f-0524c144675d');\n",
              "          const dataTable =\n",
              "            await google.colab.kernel.invokeFunction('convertToInteractive',\n",
              "                                                     [key], {});\n",
              "          if (!dataTable) return;\n",
              "\n",
              "          const docLinkHtml = 'Like what you see? Visit the ' +\n",
              "            '<a target=\"_blank\" href=https://colab.research.google.com/notebooks/data_table.ipynb>data table notebook</a>'\n",
              "            + ' to learn more about interactive tables.';\n",
              "          element.innerHTML = '';\n",
              "          dataTable['output_type'] = 'display_data';\n",
              "          await google.colab.output.renderOutput(dataTable, element);\n",
              "          const docLink = document.createElement('div');\n",
              "          docLink.innerHTML = docLinkHtml;\n",
              "          element.appendChild(docLink);\n",
              "        }\n",
              "      </script>\n",
              "    </div>\n",
              "  </div>\n",
              "  "
            ],
            "text/plain": [
              "   county_FIPS state          county  per_capita_personal_income_2019  \\\n",
              "0        51013    VA   Arlington, VA                            97629   \n",
              "1        35028    NM  Los Alamos, NM                            72366   \n",
              "2         8013    CO     Boulder, CO                            79698   \n",
              "3        24027    MD      Howard, MD                            78013   \n",
              "4        36061    NY    New York, NY                           173525   \n",
              "\n",
              "   per_capita_personal_income_2020  per_capita_personal_income_2021  \\\n",
              "0                           100687                           107603   \n",
              "1                            75949                            81306   \n",
              "2                            83173                            89593   \n",
              "3                            82041                            86380   \n",
              "4                           175327                           195543   \n",
              "\n",
              "   associate_degree_numbers_2016_2020  bachelor_degree_numbers_2016_2020  \\\n",
              "0                               19573                             132394   \n",
              "1                                2766                               9098   \n",
              "2                               45834                             135876   \n",
              "3                               42538                             136792   \n",
              "4                              167960                             777483   \n",
              "\n",
              "   associate_degree_percentage_2016_2020  bachelor_degree_percentage_2015_2019  \n",
              "0                                  11.21                                 75.84  \n",
              "1                                  20.54                                 67.56  \n",
              "2                                  21.24                                 62.97  \n",
              "3                                  19.49                                 62.67  \n",
              "4                                  13.43                                 62.18  "
            ]
          },
          "execution_count": 2,
          "metadata": {},
          "output_type": "execute_result"
        }
      ],
      "source": [
        "# Importing US County GDP csv file\n",
        "myDF = pd.read_csv('/content/uscountygdp.csv.csv')\n",
        "myDF.head()"
      ]
    },
    {
      "cell_type": "code",
      "execution_count": 4,
      "metadata": {
        "colab": {
          "base_uri": "https://localhost:8080/"
        },
        "id": "JawjJ7giusWn",
        "outputId": "0b79b21f-39ba-4347-f3c5-2b445b396bde"
      },
      "outputs": [
        {
          "data": {
            "text/plain": [
              "(3006, 10)"
            ]
          },
          "execution_count": 4,
          "metadata": {},
          "output_type": "execute_result"
        }
      ],
      "source": [
        "# Printing shape\n",
        "\n",
        "myDF.shape"
      ]
    },
    {
      "cell_type": "code",
      "execution_count": 5,
      "metadata": {
        "colab": {
          "base_uri": "https://localhost:8080/"
        },
        "id": "XsydP52fu_8A",
        "outputId": "ceee5425-6434-491b-ba2e-43c4c6f863b0"
      },
      "outputs": [
        {
          "data": {
            "text/plain": [
              "False"
            ]
          },
          "execution_count": 5,
          "metadata": {},
          "output_type": "execute_result"
        }
      ],
      "source": [
        "# Check for NAN values\n",
        "\n",
        "myDF.isnull().values.any()"
      ]
    },
    {
      "cell_type": "code",
      "execution_count": 8,
      "metadata": {
        "id": "5t_Mb_glvMcA"
      },
      "outputs": [],
      "source": [
        "X = myDF[\"per_capita_personal_income_2021\"].values.reshape(-1, 1)\n",
        "y = myDF[\"associate_degree_percentage_2016_2020\"].values.reshape(-1, 1)"
      ]
    },
    {
      "cell_type": "code",
      "execution_count": 15,
      "metadata": {
        "colab": {
          "base_uri": "https://localhost:8080/"
        },
        "id": "jk3iWEPfvsuZ",
        "outputId": "3979d20c-0111-400d-eec8-45f6a55dca2b"
      },
      "outputs": [
        {
          "data": {
            "text/plain": [
              "array([[54525],\n",
              "       [54105],\n",
              "       [64548],\n",
              "       ...,\n",
              "       [48428],\n",
              "       [48733],\n",
              "       [42153]])"
            ]
          },
          "execution_count": 15,
          "metadata": {},
          "output_type": "execute_result"
        }
      ],
      "source": [
        "X_train, X_test, y_train, y_test = train_test_split(X, y, test_size = 0.30, random_state=50)\n",
        "X_train"
      ]
    },
    {
      "cell_type": "code",
      "execution_count": 16,
      "metadata": {
        "colab": {
          "base_uri": "https://localhost:8080/"
        },
        "id": "OqYFZ6aAwuI4",
        "outputId": "da10b119-9eed-4cf0-ed7b-7180efd4a274"
      },
      "outputs": [
        {
          "name": "stdout",
          "output_type": "stream",
          "text": [
            "[29.93241658]\n"
          ]
        }
      ],
      "source": [
        "\n",
        "# Training Linear Regression Model\n",
        "regres = LinearRegression()\n",
        "\n",
        "regres.fit(X_train, y_train)\n",
        "print(regres.intercept_)"
      ]
    },
    {
      "cell_type": "code",
      "execution_count": 17,
      "metadata": {
        "colab": {
          "base_uri": "https://localhost:8080/"
        },
        "id": "fL6qFSFdw9Xg",
        "outputId": "7462e6ed-b351-46f1-a3b8-e1d20ed90f3d"
      },
      "outputs": [
        {
          "name": "stdout",
          "output_type": "stream",
          "text": [
            "[[2.51572942e-05]]\n"
          ]
        }
      ],
      "source": [
        "\n",
        "# Slope\n",
        "print(regres.coef_)"
      ]
    },
    {
      "cell_type": "code",
      "execution_count": 19,
      "metadata": {
        "colab": {
          "base_uri": "https://localhost:8080/",
          "height": 424
        },
        "id": "Y0fM4Kkpxfnh",
        "outputId": "0bf1af67-b8c1-452e-d288-1a07693341f2"
      },
      "outputs": [
        {
          "data": {
            "text/html": [
              "\n",
              "  <div id=\"df-dc86f41d-e3df-42ba-8b17-c97d756943d2\">\n",
              "    <div class=\"colab-df-container\">\n",
              "      <div>\n",
              "<style scoped>\n",
              "    .dataframe tbody tr th:only-of-type {\n",
              "        vertical-align: middle;\n",
              "    }\n",
              "\n",
              "    .dataframe tbody tr th {\n",
              "        vertical-align: top;\n",
              "    }\n",
              "\n",
              "    .dataframe thead th {\n",
              "        text-align: right;\n",
              "    }\n",
              "</style>\n",
              "<table border=\"1\" class=\"dataframe\">\n",
              "  <thead>\n",
              "    <tr style=\"text-align: right;\">\n",
              "      <th></th>\n",
              "      <th>Actual</th>\n",
              "      <th>Predicted</th>\n",
              "    </tr>\n",
              "  </thead>\n",
              "  <tbody>\n",
              "    <tr>\n",
              "      <th>0</th>\n",
              "      <td>22.83</td>\n",
              "      <td>31.186558</td>\n",
              "    </tr>\n",
              "    <tr>\n",
              "      <th>1</th>\n",
              "      <td>32.20</td>\n",
              "      <td>31.083790</td>\n",
              "    </tr>\n",
              "    <tr>\n",
              "      <th>2</th>\n",
              "      <td>33.31</td>\n",
              "      <td>31.000293</td>\n",
              "    </tr>\n",
              "    <tr>\n",
              "      <th>3</th>\n",
              "      <td>33.38</td>\n",
              "      <td>31.307036</td>\n",
              "    </tr>\n",
              "    <tr>\n",
              "      <th>4</th>\n",
              "      <td>38.92</td>\n",
              "      <td>30.988595</td>\n",
              "    </tr>\n",
              "    <tr>\n",
              "      <th>...</th>\n",
              "      <td>...</td>\n",
              "      <td>...</td>\n",
              "    </tr>\n",
              "    <tr>\n",
              "      <th>897</th>\n",
              "      <td>20.64</td>\n",
              "      <td>30.740544</td>\n",
              "    </tr>\n",
              "    <tr>\n",
              "      <th>898</th>\n",
              "      <td>26.98</td>\n",
              "      <td>31.085073</td>\n",
              "    </tr>\n",
              "    <tr>\n",
              "      <th>899</th>\n",
              "      <td>26.06</td>\n",
              "      <td>31.003463</td>\n",
              "    </tr>\n",
              "    <tr>\n",
              "      <th>900</th>\n",
              "      <td>28.92</td>\n",
              "      <td>31.164420</td>\n",
              "    </tr>\n",
              "    <tr>\n",
              "      <th>901</th>\n",
              "      <td>30.42</td>\n",
              "      <td>31.047639</td>\n",
              "    </tr>\n",
              "  </tbody>\n",
              "</table>\n",
              "<p>902 rows × 2 columns</p>\n",
              "</div>\n",
              "      <button class=\"colab-df-convert\" onclick=\"convertToInteractive('df-dc86f41d-e3df-42ba-8b17-c97d756943d2')\"\n",
              "              title=\"Convert this dataframe to an interactive table.\"\n",
              "              style=\"display:none;\">\n",
              "        \n",
              "  <svg xmlns=\"http://www.w3.org/2000/svg\" height=\"24px\"viewBox=\"0 0 24 24\"\n",
              "       width=\"24px\">\n",
              "    <path d=\"M0 0h24v24H0V0z\" fill=\"none\"/>\n",
              "    <path d=\"M18.56 5.44l.94 2.06.94-2.06 2.06-.94-2.06-.94-.94-2.06-.94 2.06-2.06.94zm-11 1L8.5 8.5l.94-2.06 2.06-.94-2.06-.94L8.5 2.5l-.94 2.06-2.06.94zm10 10l.94 2.06.94-2.06 2.06-.94-2.06-.94-.94-2.06-.94 2.06-2.06.94z\"/><path d=\"M17.41 7.96l-1.37-1.37c-.4-.4-.92-.59-1.43-.59-.52 0-1.04.2-1.43.59L10.3 9.45l-7.72 7.72c-.78.78-.78 2.05 0 2.83L4 21.41c.39.39.9.59 1.41.59.51 0 1.02-.2 1.41-.59l7.78-7.78 2.81-2.81c.8-.78.8-2.07 0-2.86zM5.41 20L4 18.59l7.72-7.72 1.47 1.35L5.41 20z\"/>\n",
              "  </svg>\n",
              "      </button>\n",
              "      \n",
              "  <style>\n",
              "    .colab-df-container {\n",
              "      display:flex;\n",
              "      flex-wrap:wrap;\n",
              "      gap: 12px;\n",
              "    }\n",
              "\n",
              "    .colab-df-convert {\n",
              "      background-color: #E8F0FE;\n",
              "      border: none;\n",
              "      border-radius: 50%;\n",
              "      cursor: pointer;\n",
              "      display: none;\n",
              "      fill: #1967D2;\n",
              "      height: 32px;\n",
              "      padding: 0 0 0 0;\n",
              "      width: 32px;\n",
              "    }\n",
              "\n",
              "    .colab-df-convert:hover {\n",
              "      background-color: #E2EBFA;\n",
              "      box-shadow: 0px 1px 2px rgba(60, 64, 67, 0.3), 0px 1px 3px 1px rgba(60, 64, 67, 0.15);\n",
              "      fill: #174EA6;\n",
              "    }\n",
              "\n",
              "    [theme=dark] .colab-df-convert {\n",
              "      background-color: #3B4455;\n",
              "      fill: #D2E3FC;\n",
              "    }\n",
              "\n",
              "    [theme=dark] .colab-df-convert:hover {\n",
              "      background-color: #434B5C;\n",
              "      box-shadow: 0px 1px 3px 1px rgba(0, 0, 0, 0.15);\n",
              "      filter: drop-shadow(0px 1px 2px rgba(0, 0, 0, 0.3));\n",
              "      fill: #FFFFFF;\n",
              "    }\n",
              "  </style>\n",
              "\n",
              "      <script>\n",
              "        const buttonEl =\n",
              "          document.querySelector('#df-dc86f41d-e3df-42ba-8b17-c97d756943d2 button.colab-df-convert');\n",
              "        buttonEl.style.display =\n",
              "          google.colab.kernel.accessAllowed ? 'block' : 'none';\n",
              "\n",
              "        async function convertToInteractive(key) {\n",
              "          const element = document.querySelector('#df-dc86f41d-e3df-42ba-8b17-c97d756943d2');\n",
              "          const dataTable =\n",
              "            await google.colab.kernel.invokeFunction('convertToInteractive',\n",
              "                                                     [key], {});\n",
              "          if (!dataTable) return;\n",
              "\n",
              "          const docLinkHtml = 'Like what you see? Visit the ' +\n",
              "            '<a target=\"_blank\" href=https://colab.research.google.com/notebooks/data_table.ipynb>data table notebook</a>'\n",
              "            + ' to learn more about interactive tables.';\n",
              "          element.innerHTML = '';\n",
              "          dataTable['output_type'] = 'display_data';\n",
              "          await google.colab.output.renderOutput(dataTable, element);\n",
              "          const docLink = document.createElement('div');\n",
              "          docLink.innerHTML = docLinkHtml;\n",
              "          element.appendChild(docLink);\n",
              "        }\n",
              "      </script>\n",
              "    </div>\n",
              "  </div>\n",
              "  "
            ],
            "text/plain": [
              "     Actual  Predicted\n",
              "0     22.83  31.186558\n",
              "1     32.20  31.083790\n",
              "2     33.31  31.000293\n",
              "3     33.38  31.307036\n",
              "4     38.92  30.988595\n",
              "..      ...        ...\n",
              "897   20.64  30.740544\n",
              "898   26.98  31.085073\n",
              "899   26.06  31.003463\n",
              "900   28.92  31.164420\n",
              "901   30.42  31.047639\n",
              "\n",
              "[902 rows x 2 columns]"
            ]
          },
          "execution_count": 19,
          "metadata": {},
          "output_type": "execute_result"
        }
      ],
      "source": [
        "# Comparing the actual data and the predicted data\n",
        "y_pred = regres.predict(X_test)\n",
        "\n",
        "DF_pred = pd.DataFrame({\"Actual\": y_test.squeeze(), \"Predicted\": y_pred.squeeze()})\n",
        "DF_pred\n",
        "     "
      ]
    },
    {
      "cell_type": "code",
      "execution_count": 20,
      "metadata": {
        "colab": {
          "base_uri": "https://localhost:8080/"
        },
        "id": "UkLjJUV8yJNZ",
        "outputId": "934f5fa3-9404-4da3-e0eb-1ac3954eed79"
      },
      "outputs": [
        {
          "name": "stdout",
          "output_type": "stream",
          "text": [
            "Mean Squared Error: 26.28\n"
          ]
        }
      ],
      "source": [
        "\n",
        "# Evaluating model with Mean Squared Error\n",
        "\n",
        "from sklearn.metrics import mean_squared_error\n",
        "import numpy as np\n",
        "\n",
        "# Checking how close the regression line is to the set of points\n",
        "mse = mean_squared_error(y_test, y_pred)\n",
        "print(f\"Mean Squared Error: {mse:.2f}\")"
      ]
    }
  ],
  "metadata": {
    "colab": {
      "provenance": []
    },
    "kernelspec": {
      "display_name": "Python 3",
      "name": "python3"
    },
    "language_info": {
      "name": "python"
    }
  },
  "nbformat": 4,
  "nbformat_minor": 0
}
